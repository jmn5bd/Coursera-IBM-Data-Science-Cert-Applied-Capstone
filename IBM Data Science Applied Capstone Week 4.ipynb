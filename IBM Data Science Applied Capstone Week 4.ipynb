{
    "cells": [
        {
            "metadata": {
                "collapsed": true
            },
            "cell_type": "markdown",
            "source": "# Problem Definition"
        },
        {
            "metadata": {},
            "cell_type": "markdown",
            "source": "The problem I would like to solve is that of a large exercise chain (something like Crossfit, Golds Gym, Planet Fitness, etc.) looking to open several new locations in New York City. The goal will be to find an optimal neighborhood to build a gym in where there is a maximum of need and minimum of competition, and to highlight several other good sights, preferably at least one in every borough. This will hopefully provide the company with locations to evaluate real estate opportunities in that will maximize the chances of success for the relatively risky venture of establishing new 'brick and mortar' operations. Clustering may also be used to identify cross-neighborhood areas which should be clearly avoided when looking for real estate, as they lie too close to multiple competitors."
        },
        {
            "metadata": {},
            "cell_type": "markdown",
            "source": "# Data Description"
        },
        {
            "metadata": {},
            "cell_type": "markdown",
            "source": "The data that will be used in this investigation will be the New York Neighborhoods data used in our previous labs and Foursquare location data on venues within the city. Unlike the labs, this will require the use of data from all five boroughs, not just Manhattan. The location data will be in the form of strings from the features column of the Foursquare data. This will then need to be combed through to clear out all venues but gyms, then compiled into a data frame with which to conduct the analysis. An example snippet of the raw Foursquare data is provided below."
        },
        {
            "metadata": {},
            "cell_type": "markdown",
            "source": " 'name': 'Starbucks',\n       'location': {'address': '171 W 230th St',\n        'crossStreet': 'Kimberly Pl',\n        'lat': 40.87753134921497,\n        'lng': -73.90558216359267,\n        'labeledLatLngs': [{'label': 'display',\n          'lat': 40.87753134921497,\n          'lng': -73.90558216359267}],\n        'distance': 441,\n        'postalCode': '10463',\n        'cc': 'US',\n        'city': 'Bronx',\n        'state': 'NY',\n        'country': 'United States',\n        'formattedAddress': ['171 W 230th St (Kimberly Pl)',\n         'Bronx, NY 10463',\n         'United States']},\n       'categories': [{'id': '4bf58dd8d48988d1e0931735',\n         'name': 'Coffee Shop',\n         'pluralName': 'Coffee Shops',\n         'shortName': 'Coffee Shop',\n         'icon': {'prefix': 'https://ss3.4sqi.net/img/categories_v2/food/coffeeshop_',\n          'suffix': '.png'},"
        }
    ],
    "metadata": {
        "kernelspec": {
            "name": "python3",
            "display_name": "Python 3.7",
            "language": "python"
        },
        "language_info": {
            "name": "python",
            "version": "3.7.10",
            "mimetype": "text/x-python",
            "codemirror_mode": {
                "name": "ipython",
                "version": 3
            },
            "pygments_lexer": "ipython3",
            "nbconvert_exporter": "python",
            "file_extension": ".py"
        }
    },
    "nbformat": 4,
    "nbformat_minor": 1
}